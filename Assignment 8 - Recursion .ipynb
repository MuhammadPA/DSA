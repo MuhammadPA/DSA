{
 "cells": [
  {
   "cell_type": "markdown",
   "id": "1ae69bca-cbf4-4045-bfc4-3f46773f3f90",
   "metadata": {},
   "source": [
    "### Question 1\n",
    "\n",
    "Given two strings s1 and s2, return *the lowest **ASCII** sum of deleted characters to make two strings equal*.\n",
    "\n",
    "**Example 1:**\n",
    "\n",
    "**Input:** s1 = \"sea\", s2 = \"eat\"\n",
    "\n",
    "**Output:** 231\n",
    "\n",
    "**Explanation:** Deleting \"s\" from \"sea\" adds the ASCII value of \"s\" (115) to the sum.\n",
    "\n",
    "Deleting \"t\" from \"eat\" adds 116 to the sum.\n",
    "\n",
    "At the end, both strings are equal, and 115 + 116 = 231 is the minimum sum possible to achieve this.\n",
    "\n",
    "</aside>"
   ]
  },
  {
   "cell_type": "code",
   "execution_count": 1,
   "id": "8b8575bd-c541-44c4-ad11-92eb0cec08e4",
   "metadata": {},
   "outputs": [
    {
     "name": "stdout",
     "output_type": "stream",
     "text": [
      "231\n"
     ]
    }
   ],
   "source": [
    "def minimumDeleteSum(s1, s2):\n",
    "    m, n = len(s1), len(s2)\n",
    "    dp = [[0] * (n+1) for _ in range(m+1)]\n",
    "\n",
    "    # Initialize first row and column\n",
    "    for i in range(1, m+1):\n",
    "        dp[i][0] = dp[i-1][0] + ord(s1[i-1])\n",
    "    for j in range(1, n+1):\n",
    "        dp[0][j] = dp[0][j-1] + ord(s2[j-1])\n",
    "\n",
    "    # Fill the dp array\n",
    "    for i in range(1, m+1):\n",
    "        for j in range(1, n+1):\n",
    "            if s1[i-1] == s2[j-1]:\n",
    "                dp[i][j] = dp[i-1][j-1]\n",
    "            else:\n",
    "                dp[i][j] = min(dp[i-1][j] + ord(s1[i-1]), dp[i][j-1] + ord(s2[j-1]))\n",
    "\n",
    "    return dp[m][n]\n",
    "s1 = \"sea\"\n",
    "s2 = \"eat\"\n",
    "result = minimumDeleteSum(s1, s2)\n",
    "print(result)  "
   ]
  },
  {
   "cell_type": "markdown",
   "id": "039ac6e8-dd34-4ac4-b17d-2182225eaf9d",
   "metadata": {},
   "source": [
    "### Question 2\n",
    "\n",
    "Given a string s containing only three types of characters: '(', ')' and '*', return true *if* s *is **valid***.\n",
    "\n",
    "The following rules define a **valid** string:\n",
    "\n",
    "- Any left parenthesis '(' must have a corresponding right parenthesis ')'.\n",
    "- Any right parenthesis ')' must have a corresponding left parenthesis '('.\n",
    "- Left parenthesis '(' must go before the corresponding right parenthesis ')'.\n",
    "- '*' could be treated as a single right parenthesis ')' or a single left parenthesis '(' or an empty string \"\".\n",
    "\n",
    "**Example 1:**\n",
    "\n",
    "**Input:** s = \"()\"\n",
    "\n",
    "**Output:**\n",
    "\n",
    "true\n",
    "\n",
    "</aside>"
   ]
  },
  {
   "cell_type": "code",
   "execution_count": 2,
   "id": "c0f009e8-8edf-46ce-b11e-6ad7eb1e1943",
   "metadata": {},
   "outputs": [
    {
     "name": "stdout",
     "output_type": "stream",
     "text": [
      "True\n"
     ]
    }
   ],
   "source": [
    "def checkValidString(s):\n",
    "    stack = []\n",
    "\n",
    "    for c in s:\n",
    "        if c in '(*':\n",
    "            stack.append(c)\n",
    "        elif c == ')':\n",
    "            if stack and stack[-1] in '(*':\n",
    "                stack.pop()\n",
    "            else:\n",
    "                return False\n",
    "\n",
    "    # Handle remaining asterisks on the stack\n",
    "    while stack and stack[-1] == '*':\n",
    "        stack.pop()\n",
    "\n",
    "    return len(stack) == 0\n",
    "\n",
    "s = \"()\"\n",
    "result = checkValidString(s)\n",
    "print(result)  "
   ]
  },
  {
   "cell_type": "markdown",
   "id": "de48c981-f773-464e-93d4-7587a1662f88",
   "metadata": {},
   "source": [
    "### Question 3\n",
    "\n",
    "Given two strings word1 and word2, return *the minimum number of **steps** required to make* word1 *and* word2 *the same*.\n",
    "\n",
    "In one **step**, you can delete exactly one character in either string.\n",
    "\n",
    "**Example 1:**\n",
    "\n",
    "**Input:** word1 = \"sea\", word2 = \"eat\"\n",
    "\n",
    "**Output:** 2\n",
    "\n",
    "**Explanation:** You need one step to make \"sea\" to \"ea\" and another step to make \"eat\" to \"ea\"\n",
    "\n",
    "</aside>"
   ]
  },
  {
   "cell_type": "code",
   "execution_count": 3,
   "id": "ee4669d2-aca1-475f-b460-18735599f0ec",
   "metadata": {},
   "outputs": [
    {
     "name": "stdout",
     "output_type": "stream",
     "text": [
      "2\n"
     ]
    }
   ],
   "source": [
    "def minSteps(word1, word2):\n",
    "    m, n = len(word1), len(word2)\n",
    "    dp = [[0] * (n+1) for _ in range(m+1)]\n",
    "\n",
    "    # Initialize first row and column\n",
    "    for i in range(1, m+1):\n",
    "        dp[i][0] = i\n",
    "    for j in range(1, n+1):\n",
    "        dp[0][j] = j\n",
    "\n",
    "    # Fill the dp array\n",
    "    for i in range(1, m+1):\n",
    "        for j in range(1, n+1):\n",
    "            if word1[i-1] == word2[j-1]:\n",
    "                dp[i][j] = dp[i-1][j-1]\n",
    "            else:\n",
    "                dp[i][j] = min(dp[i-1][j], dp[i][j-1]) + 1\n",
    "\n",
    "    return dp[m][n]\n",
    "\n",
    "word1 = \"sea\"\n",
    "word2 = \"eat\"\n",
    "result = minSteps(word1, word2)\n",
    "print(result)  "
   ]
  },
  {
   "cell_type": "markdown",
   "id": "43f486f9-8775-4f18-af18-2ab7360e6491",
   "metadata": {},
   "source": [
    "### Question 4\n",
    "\n",
    "You need to construct a binary tree from a string consisting of parenthesis and integers.\n",
    "\n",
    "The whole input represents a binary tree. It contains an integer followed by zero, one or two pairs of parenthesis. The integer represents the root's value and a pair of parenthesis contains a child binary tree with the same structure.\n",
    "You always start to construct the **left** child node of the parent first if it exists.\n",
    "\n",
    "**Input:** s = \"4(2(3)(1))(6(5))\"\n",
    "\n",
    "**Output:** [4,2,6,3,1,5]"
   ]
  },
  {
   "cell_type": "code",
   "execution_count": 9,
   "id": "3a3b5164-3b46-4a0b-a018-d25e25da7222",
   "metadata": {},
   "outputs": [
    {
     "name": "stdout",
     "output_type": "stream",
     "text": [
      "[4, 2, 6, 3, 1, 5]\n"
     ]
    }
   ],
   "source": [
    "class TreeNode:\n",
    "    def __init__(self, val=0, left=None, right=None):\n",
    "        self.val = val\n",
    "        self.left = left\n",
    "        self.right = right\n",
    "\n",
    "def buildTree(s):\n",
    "    if not s:\n",
    "        return None\n",
    "\n",
    "    rootEnd = s.find('(')\n",
    "    rootVal = int(s[:rootEnd])\n",
    "\n",
    "    root = TreeNode(rootVal)\n",
    "\n",
    "    leftEnd = findClosingParenthesis(s, rootEnd)\n",
    "\n",
    "    root.left = buildTree(s[rootEnd+1:leftEnd])\n",
    "    root.right = buildTree(s[leftEnd+2:-1])\n",
    "\n",
    "    return root\n",
    "\n",
    "def findClosingParenthesis(s, start):\n",
    "    count = 0\n",
    "    for i in range(start, len(s)):\n",
    "        if s[i] == '(':\n",
    "            count += 1\n",
    "        elif s[i] == ')':\n",
    "            count -= 1\n",
    "            if count == 0:\n",
    "                return i\n",
    "\n",
    "s = \"4(2(3)(1))(6(5))\"\n",
    "root = buildTree(s)\n",
    "\n",
    "def inorderTraversal(root):\n",
    "    result = []\n",
    "\n",
    "    def traverse(node):\n",
    "        if node is None:\n",
    "            return\n",
    "        traverse(node.left)\n",
    "        result.append(node.val)\n",
    "        traverse(node.right)\n",
    "\n",
    "    traverse(root)\n",
    "    return result\n",
    "\n",
    "output = inorderTraversal(root)\n",
    "print(output)  "
   ]
  },
  {
   "cell_type": "markdown",
   "id": "0e756213-d1bf-42e3-a5bd-8d04efb0e19a",
   "metadata": {},
   "source": [
    "### Question 5\n",
    "\n",
    "Given an array of characters chars, compress it using the following algorithm:\n",
    "\n",
    "Begin with an empty string s. For each group of **consecutive repeating characters** in chars:\n",
    "\n",
    "- If the group's length is 1, append the character to s.\n",
    "- Otherwise, append the character followed by the group's length.\n",
    "\n",
    "The compressed string s **should not be returned separately**, but instead, be stored **in the input character array chars**. Note that group lengths that are 10 or longer will be split into multiple characters in chars.\n",
    "\n",
    "After you are done **modifying the input array,** return *the new length of the array*.\n",
    "\n",
    "You must write an algorithm that uses only constant extra space.\n",
    "\n",
    "**Example 1:**\n",
    "\n",
    "**Input:** chars = [\"a\",\"a\",\"b\",\"b\",\"c\",\"c\",\"c\"]\n",
    "\n",
    "**Output:** Return 6, and the first 6 characters of the input array should be: [\"a\",\"2\",\"b\",\"2\",\"c\",\"3\"]\n",
    "\n",
    "**Explanation:**\n",
    "\n",
    "The groups are \"aa\", \"bb\", and \"ccc\". This compresses to \"a2b2c3\".\n",
    "\n",
    "</aside>"
   ]
  },
  {
   "cell_type": "code",
   "execution_count": 5,
   "id": "20f86830-13e3-49ce-8d56-278cc407755c",
   "metadata": {},
   "outputs": [
    {
     "name": "stdout",
     "output_type": "stream",
     "text": [
      "6\n",
      "['a', '2', 'b', '2', 'c', '3']\n"
     ]
    }
   ],
   "source": [
    "def compress(chars):\n",
    "    read = 0\n",
    "    write = 0\n",
    "    count = 1\n",
    "\n",
    "    for i in range(1, len(chars)):\n",
    "        if chars[i] == chars[i - 1]:\n",
    "            count += 1\n",
    "        else:\n",
    "            chars[write] = chars[i - 1]\n",
    "            write += 1\n",
    "\n",
    "            if count > 1:\n",
    "                count_str = str(count)\n",
    "                for j in range(len(count_str)):\n",
    "                    chars[write] = count_str[j]\n",
    "                    write += 1\n",
    "\n",
    "            count = 1\n",
    "\n",
    "    chars[write] = chars[-1]\n",
    "    write += 1\n",
    "\n",
    "    if count > 1:\n",
    "        count_str = str(count)\n",
    "        for j in range(len(count_str)):\n",
    "            chars[write] = count_str[j]\n",
    "            write += 1\n",
    "\n",
    "    return write\n",
    "chars = [\"a\", \"a\", \"b\", \"b\", \"c\", \"c\", \"c\"]\n",
    "result = compress(chars)\n",
    "print(result)  \n",
    "print(chars[:result])  "
   ]
  },
  {
   "cell_type": "markdown",
   "id": "fd59e108-4ead-4802-abb3-76dc0bd288f2",
   "metadata": {},
   "source": [
    "### Question 6\n",
    "\n",
    "Given two strings s and p, return *an array of all the start indices of* p*'s anagrams in* s. You may return the answer in **any order**.\n",
    "\n",
    "An **Anagram** is a word or phrase formed by rearranging the letters of a different word or phrase, typically using all the original letters exactly once.\n",
    "\n",
    "**Example 1:**\n",
    "\n",
    "**Input:** s = \"cbaebabacd\", p = \"abc\"\n",
    "\n",
    "**Output:** [0,6]\n",
    "\n",
    "**Explanation:**\n",
    "\n",
    "The substring with start index = 0 is \"cba\", which is an anagram of \"abc\".\n",
    "\n",
    "The substring with start index = 6 is \"bac\", which is an anagram of \"abc\".\n",
    "\n",
    "</aside>"
   ]
  },
  {
   "cell_type": "code",
   "execution_count": 10,
   "id": "8a812fa2-3bd1-4415-87cb-96a5c3f8cba0",
   "metadata": {},
   "outputs": [
    {
     "name": "stdout",
     "output_type": "stream",
     "text": [
      "[0, 6]\n"
     ]
    }
   ],
   "source": [
    "from collections import Counter\n",
    "\n",
    "def findAnagrams(s, p):\n",
    "    targetFreq = Counter(p)\n",
    "    windowFreq = Counter()\n",
    "\n",
    "    left, right = 0, 0\n",
    "    result = []\n",
    "\n",
    "    while right < len(s):\n",
    "        windowFreq[s[right]] += 1\n",
    "\n",
    "        if right - left + 1 == len(p):\n",
    "            if windowFreq == targetFreq:\n",
    "                result.append(left)\n",
    "            \n",
    "            windowFreq[s[left]] -= 1\n",
    "            if windowFreq[s[left]] == 0:\n",
    "                del windowFreq[s[left]]\n",
    "            left += 1\n",
    "\n",
    "        right += 1\n",
    "\n",
    "    return result\n",
    "\n",
    "s = \"cbaebabacd\"\n",
    "p = \"abc\"\n",
    "result = findAnagrams(s, p)\n",
    "print(result)  \n"
   ]
  },
  {
   "cell_type": "markdown",
   "id": "a0ca9663-7431-4af7-ac30-6e562c67752f",
   "metadata": {},
   "source": [
    "### Question 7\n",
    "\n",
    "Given an encoded string, return its decoded string.\n",
    "\n",
    "The encoding rule is: k[encoded_string], where the encoded_string inside the square brackets is being repeated exactly k times. Note that k is guaranteed to be a positive integer.\n",
    "\n",
    "You may assume that the input string is always valid; there are no extra white spaces, square brackets are well-formed, etc. Furthermore, you may assume that the original data does not contain any digits and that digits are only for those repeat numbers, k. For example, there will not be input like 3a or 2[4].\n",
    "\n",
    "The test cases are generated so that the length of the output will never exceed 105.\n",
    "\n",
    "**Example 1:**\n",
    "\n",
    "**Input:** s = \"3[a]2[bc]\"\n",
    "\n",
    "**Output:** \"aaabcbc\"\n",
    "\n",
    "</aside>"
   ]
  },
  {
   "cell_type": "code",
   "execution_count": 11,
   "id": "67a4adfd-74a6-4f1a-98d0-a6879fa065e0",
   "metadata": {},
   "outputs": [
    {
     "name": "stdout",
     "output_type": "stream",
     "text": [
      "aaabcbc\n"
     ]
    }
   ],
   "source": [
    "def decodeString(s):\n",
    "    stack = []\n",
    "    \n",
    "    for char in s:\n",
    "        if char == ']':\n",
    "            decoded_str = ''\n",
    "            while stack and stack[-1] != '[':\n",
    "                decoded_str = stack.pop() + decoded_str\n",
    "            \n",
    "            stack.pop()  # Remove the '[' character\n",
    "            \n",
    "            repeat_count = ''\n",
    "            while stack and stack[-1].isdigit():\n",
    "                repeat_count = stack.pop() + repeat_count\n",
    "            \n",
    "            stack.append(int(repeat_count) * decoded_str)\n",
    "        else:\n",
    "            stack.append(char)\n",
    "    \n",
    "    return ''.join(stack)\n",
    "\n",
    "s = \"3[a]2[bc]\"\n",
    "result = decodeString(s)\n",
    "print(result)  "
   ]
  },
  {
   "cell_type": "markdown",
   "id": "dedd68fe-0b75-4048-8fa8-1c38cc398d2a",
   "metadata": {},
   "source": [
    "### Question 8\n",
    "\n",
    "Given two strings s and goal, return true *if you can swap two letters in* s *so the result is equal to* goal*, otherwise, return* false*.*\n",
    "\n",
    "Swapping letters is defined as taking two indices i and j (0-indexed) such that i != j and swapping the characters at s[i] and s[j].\n",
    "\n",
    "- For example, swapping at indices 0 and 2 in \"abcd\" results in \"cbad\".\n",
    "\n",
    "**Example 1:**\n",
    "\n",
    "**Input:** s = \"ab\", goal = \"ba\"\n",
    "\n",
    "**Output:** true\n",
    "\n",
    "**Explanation:** You can swap s[0] = 'a' and s[1] = 'b' to get \"ba\", which is equal to goal.\n",
    "\n",
    "</aside>"
   ]
  },
  {
   "cell_type": "code",
   "execution_count": 12,
   "id": "156a0e9f-bc5f-4399-800f-9532dfc8edaa",
   "metadata": {},
   "outputs": [
    {
     "name": "stdout",
     "output_type": "stream",
     "text": [
      "True\n"
     ]
    }
   ],
   "source": [
    "def buddyStrings(s, goal):\n",
    "    if len(s) != len(goal):\n",
    "        return False\n",
    "\n",
    "    if s == goal:\n",
    "        # Check if there are at least two identical characters in s\n",
    "        seen = set()\n",
    "        for char in s:\n",
    "            if char in seen:\n",
    "                return True\n",
    "            seen.add(char)\n",
    "        return False\n",
    "\n",
    "    differences = []\n",
    "    for i in range(len(s)):\n",
    "        if s[i] != goal[i]:\n",
    "            differences.append(i)\n",
    "\n",
    "    if len(differences) != 2:\n",
    "        return False\n",
    "\n",
    "    i, j = differences\n",
    "    return s[i] == goal[j] and s[j] == goal[i]\n",
    "\n",
    "s = \"ab\"\n",
    "goal = \"ba\"\n",
    "result = buddyStrings(s, goal)\n",
    "print(result)  "
   ]
  }
 ],
 "metadata": {
  "kernelspec": {
   "display_name": "Python 3 (ipykernel)",
   "language": "python",
   "name": "python3"
  },
  "language_info": {
   "codemirror_mode": {
    "name": "ipython",
    "version": 3
   },
   "file_extension": ".py",
   "mimetype": "text/x-python",
   "name": "python",
   "nbconvert_exporter": "python",
   "pygments_lexer": "ipython3",
   "version": "3.10.8"
  }
 },
 "nbformat": 4,
 "nbformat_minor": 5
}
