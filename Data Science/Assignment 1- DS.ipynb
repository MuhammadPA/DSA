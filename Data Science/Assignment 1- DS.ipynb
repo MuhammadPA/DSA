{
 "cells": [
  {
   "cell_type": "markdown",
   "id": "65d35150-c359-4c98-9bb2-9ae9ea53631e",
   "metadata": {},
   "source": [
    "### 1. Write a Python program to reverse a string without using any built-in string reversal functions."
   ]
  },
  {
   "cell_type": "code",
   "execution_count": 33,
   "id": "a6edb02c-2914-477d-9e16-5107008575ff",
   "metadata": {},
   "outputs": [
    {
     "name": "stdout",
     "output_type": "stream",
     "text": [
      "!dlroW ,olleH\n"
     ]
    }
   ],
   "source": [
    "def reverse_string(s):\n",
    "    reversed_str = \"\"\n",
    "    for i in range(len(s)-1, -1, -1):\n",
    "        reversed_str += s[i]\n",
    "    return reversed_str\n",
    "\n",
    "s = \"Hello, World!\"\n",
    "reversed_s = reverse_string(s)\n",
    "print(reversed_s)"
   ]
  },
  {
   "cell_type": "markdown",
   "id": "6b2dcde4-586e-4a1a-b2f2-cd8972950128",
   "metadata": {},
   "source": [
    "### 2. Implement a function to check if a given string is a palindrome."
   ]
  },
  {
   "cell_type": "code",
   "execution_count": 34,
   "id": "a25fc456-a61a-4db8-9e61-031faddf9e15",
   "metadata": {},
   "outputs": [
    {
     "name": "stdout",
     "output_type": "stream",
     "text": [
      "True\n",
      "False\n"
     ]
    }
   ],
   "source": [
    "def is_palindrome(s):\n",
    "    s = s.lower()\n",
    "    reversed_s = s[::-1]\n",
    "    return s == reversed_s\n",
    "\n",
    "s = \"Madam\"\n",
    "print(is_palindrome(s))  \n",
    "\n",
    "s = \"Hello\"\n",
    "print(is_palindrome(s))  "
   ]
  },
  {
   "cell_type": "markdown",
   "id": "fce713c7-1f5b-434c-b34a-121819ab0144",
   "metadata": {},
   "source": [
    "### 3. Write a program to find the largest element in a given list."
   ]
  },
  {
   "cell_type": "code",
   "execution_count": 35,
   "id": "9565a3c6-a52f-4582-9fb8-02eea29bdecb",
   "metadata": {},
   "outputs": [
    {
     "name": "stdout",
     "output_type": "stream",
     "text": [
      "9\n"
     ]
    }
   ],
   "source": [
    "def find_largest_element(lst):\n",
    "    largest = lst[0]\n",
    "    for num in lst:\n",
    "        if num > largest:\n",
    "            largest = num\n",
    "    return largest\n",
    "\n",
    "numbers = [5, 2, 9, 1, 7]\n",
    "largest_num = find_largest_element(numbers)\n",
    "print(largest_num) "
   ]
  },
  {
   "cell_type": "markdown",
   "id": "2547c580-1652-4a76-98f3-5cf8f2bb3e78",
   "metadata": {},
   "source": [
    "### 4. Implement a function to count the occurrence of each element in a list."
   ]
  },
  {
   "cell_type": "code",
   "execution_count": 36,
   "id": "a9d2d1b8-0963-400c-8f4d-79bdbcbaf547",
   "metadata": {},
   "outputs": [
    {
     "name": "stdout",
     "output_type": "stream",
     "text": [
      "{1: 1, 2: 2, 3: 3, 4: 4}\n"
     ]
    }
   ],
   "source": [
    "def count_occurrences(lst):\n",
    "    occurrences = {}\n",
    "    for element in lst:\n",
    "        if element in occurrences:\n",
    "            occurrences[element] += 1\n",
    "        else:\n",
    "            occurrences[element] = 1\n",
    "    return occurrences\n",
    "\n",
    "numbers = [1, 2, 2, 3, 3, 3, 4, 4, 4, 4]\n",
    "occurrences = count_occurrences(numbers)\n",
    "print(occurrences)  "
   ]
  },
  {
   "cell_type": "markdown",
   "id": "5cea675c-ed04-4266-a7dc-111986e8ae3d",
   "metadata": {},
   "source": [
    "### 5. Write a Python program to find the second largest number in a list."
   ]
  },
  {
   "cell_type": "code",
   "execution_count": 37,
   "id": "46cadab9-fea9-4b5e-b076-81df393dd5e4",
   "metadata": {},
   "outputs": [
    {
     "name": "stdout",
     "output_type": "stream",
     "text": [
      "7\n"
     ]
    }
   ],
   "source": [
    "def find_second_largest(lst):\n",
    "    largest = lst[0]\n",
    "    second_largest = float('-inf')\n",
    "    for num in lst:\n",
    "        if num > largest:\n",
    "            second_largest = largest\n",
    "            largest = num\n",
    "        elif num > second_largest and num < largest:\n",
    "            second_largest = num\n",
    "    return second_largest\n",
    "\n",
    "numbers = [5, 2, 9, 1, 7]\n",
    "second_largest_num = find_second_largest(numbers)\n",
    "print(second_largest_num) "
   ]
  },
  {
   "cell_type": "markdown",
   "id": "f3ad8d75-ebff-4c81-8dbb-ace3695dfd09",
   "metadata": {},
   "source": [
    "### 6. Implement a function to remove duplicate elements from a list."
   ]
  },
  {
   "cell_type": "code",
   "execution_count": 38,
   "id": "e8e7fe46-f201-4cda-b106-9b5eed37177d",
   "metadata": {},
   "outputs": [
    {
     "name": "stdout",
     "output_type": "stream",
     "text": [
      "[1, 2, 3, 4]\n"
     ]
    }
   ],
   "source": [
    "def remove_duplicates(lst):\n",
    "    unique_lst = []\n",
    "    for element in lst:\n",
    "        if element not in unique_lst:\n",
    "            unique_lst.append(element)\n",
    "    return unique_lst\n",
    "\n",
    "numbers = [1, 2, 2, 3, 3, 3, 4, 4, 4, 4]\n",
    "unique_numbers = remove_duplicates(numbers)\n",
    "print(unique_numbers)  "
   ]
  },
  {
   "cell_type": "markdown",
   "id": "f96c43bb-0b30-489b-9c1d-cc5e15d61dfc",
   "metadata": {},
   "source": [
    "### 7. Write a program to calculate the factorial of a given number."
   ]
  },
  {
   "cell_type": "code",
   "execution_count": 39,
   "id": "7bb1b5d9-cdad-40e7-b9ce-a3723de451db",
   "metadata": {},
   "outputs": [
    {
     "name": "stdout",
     "output_type": "stream",
     "text": [
      "120\n"
     ]
    }
   ],
   "source": [
    "def factorial(n):\n",
    "    if n == 0:\n",
    "        return 1\n",
    "    else:\n",
    "        return n * factorial(n - 1)\n",
    "\n",
    "num = 5\n",
    "factorial_num = factorial(num)\n",
    "print(factorial_num)  "
   ]
  },
  {
   "cell_type": "markdown",
   "id": "3f1f77f8-62aa-400a-893a-9a6fced83d5b",
   "metadata": {},
   "source": [
    "### 8. Implement a function to check if a given number is prime."
   ]
  },
  {
   "cell_type": "code",
   "execution_count": 40,
   "id": "cfc0d317-fa3e-4fc2-b5a6-00f1f3f1e92d",
   "metadata": {},
   "outputs": [
    {
     "name": "stdout",
     "output_type": "stream",
     "text": [
      "True\n"
     ]
    }
   ],
   "source": [
    "def is_prime(n):\n",
    "    if n <= 1:\n",
    "        return False\n",
    "\n",
    "    for i in range(2, int(n**0.5) + 1):\n",
    "        if n % i == 0:\n",
    "            return False\n",
    "\n",
    "    return True\n",
    "\n",
    "num = 13\n",
    "is_prime_num = is_prime(num)\n",
    "print(is_prime_num)  "
   ]
  },
  {
   "cell_type": "markdown",
   "id": "6d699dd8-41d7-47ca-8629-078805fc908a",
   "metadata": {},
   "source": [
    "### 9. Write a Python program to sort a list of integers in ascending order."
   ]
  },
  {
   "cell_type": "code",
   "execution_count": 41,
   "id": "0f93a26f-9a07-4bc6-aee2-2d46122b811a",
   "metadata": {},
   "outputs": [
    {
     "name": "stdout",
     "output_type": "stream",
     "text": [
      "[1, 2, 5, 7, 9]\n"
     ]
    }
   ],
   "source": [
    "def sort_list(lst):\n",
    "    sorted_lst = lst[:]\n",
    "    sorted_lst.sort()\n",
    "    return sorted_lst\n",
    "\n",
    "numbers = [5, 2, 9, 1, 7]\n",
    "sorted_numbers = sort_list(numbers)\n",
    "print(sorted_numbers)  "
   ]
  },
  {
   "cell_type": "markdown",
   "id": "ad24caf8-719a-4700-a147-63ff1d20a3ea",
   "metadata": {},
   "source": [
    "### 10. Implement a function to find the sum of all numbers in a list."
   ]
  },
  {
   "cell_type": "code",
   "execution_count": 42,
   "id": "b1d11eb1-938b-4292-8d50-768c3ede4b5b",
   "metadata": {},
   "outputs": [
    {
     "name": "stdout",
     "output_type": "stream",
     "text": [
      "15\n"
     ]
    }
   ],
   "source": [
    "def find_sum(lst):\n",
    "    total = 0\n",
    "    for num in lst:\n",
    "        total += num\n",
    "    return total\n",
    "\n",
    "numbers = [1, 2, 3, 4, 5]\n",
    "sum_numbers = find_sum(numbers)\n",
    "print(sum_numbers)  "
   ]
  },
  {
   "cell_type": "markdown",
   "id": "fc92e592-f8bb-4322-98a1-614594b8e6bf",
   "metadata": {},
   "source": [
    "### 11. Write a program to find the common elements between two lists."
   ]
  },
  {
   "cell_type": "code",
   "execution_count": 43,
   "id": "d2bd03ab-6451-458e-8e7b-287d67903824",
   "metadata": {},
   "outputs": [
    {
     "name": "stdout",
     "output_type": "stream",
     "text": [
      "[4, 5]\n"
     ]
    }
   ],
   "source": [
    "def find_common_elements(list1, list2):\n",
    "    common_elements = []\n",
    "    for element in list1:\n",
    "        if element in list2 and element not in common_elements:\n",
    "            common_elements.append(element)\n",
    "    return common_elements\n",
    "\n",
    "list1 = [1, 2, 3, 4, 5]\n",
    "list2 = [4, 5, 6, 7, 8]\n",
    "common_elements = find_common_elements(list1, list2)\n",
    "print(common_elements) "
   ]
  },
  {
   "cell_type": "markdown",
   "id": "111b337b-f6dc-444b-b0bd-67c3d3b9e99d",
   "metadata": {},
   "source": [
    "### 12. Implement a function to check if a given string is an anagram of another string."
   ]
  },
  {
   "cell_type": "code",
   "execution_count": 44,
   "id": "fde55974-b0cc-49fc-9950-eb1d3311e756",
   "metadata": {},
   "outputs": [
    {
     "name": "stdout",
     "output_type": "stream",
     "text": [
      "True\n",
      "False\n"
     ]
    }
   ],
   "source": [
    "def is_anagram(str1, str2):\n",
    "    str1 = str1.lower().replace(\" \", \"\")\n",
    "    str2 = str2.lower().replace(\" \", \"\")\n",
    "    return sorted(str1) == sorted(str2)\n",
    "\n",
    "s1 = \"listen\"\n",
    "s2 = \"silent\"\n",
    "print(is_anagram(s1, s2)) \n",
    "\n",
    "s1 = \"hello\"\n",
    "s2 = \"world\"\n",
    "print(is_anagram(s1, s2)) "
   ]
  },
  {
   "cell_type": "markdown",
   "id": "31d5018c-c4db-449c-897e-59ed5c09280b",
   "metadata": {},
   "source": [
    "### 13. Write a Python program to generate all permutations of a given string."
   ]
  },
  {
   "cell_type": "code",
   "execution_count": 45,
   "id": "4077cb51-c8a6-4f2a-b705-727e03196779",
   "metadata": {},
   "outputs": [
    {
     "name": "stdout",
     "output_type": "stream",
     "text": [
      "['abc', 'acb', 'bac', 'bca', 'cab', 'cba']\n"
     ]
    }
   ],
   "source": [
    "import itertools\n",
    "\n",
    "def generate_permutations(s):\n",
    "    permutations = [''.join(p) for p in itertools.permutations(s)]\n",
    "    return permutations\n",
    "\n",
    "string = \"abc\"\n",
    "permutations = generate_permutations(string)\n",
    "print(permutations)  "
   ]
  },
  {
   "cell_type": "markdown",
   "id": "d50c69fa-7d5b-4e00-b615-c00b44a9dc4b",
   "metadata": {},
   "source": [
    "### 14. Implement a function to calculate the Fibonacci sequence up to a given number of terms."
   ]
  },
  {
   "cell_type": "code",
   "execution_count": 46,
   "id": "2b467268-937e-45e6-bf10-b596c130e600",
   "metadata": {},
   "outputs": [
    {
     "name": "stdout",
     "output_type": "stream",
     "text": [
      "[0, 1, 1, 2, 3, 5, 8, 13]\n"
     ]
    }
   ],
   "source": [
    "def fibonacci_sequence(n):\n",
    "    sequence = [0, 1]\n",
    "    if n <= 2:\n",
    "        return sequence[:n]\n",
    "    while len(sequence) < n:\n",
    "        next_num = sequence[-1] + sequence[-2]\n",
    "        sequence.append(next_num)\n",
    "    return sequence\n",
    "\n",
    "num_terms = 8\n",
    "fibonacci_seq = fibonacci_sequence(num_terms)\n",
    "print(fibonacci_seq)"
   ]
  },
  {
   "cell_type": "markdown",
   "id": "ee0d4a82-cddb-4f77-92d1-84f12d3ef882",
   "metadata": {},
   "source": [
    "### 15. Write a program to find the median of a list of numbers."
   ]
  },
  {
   "cell_type": "code",
   "execution_count": 47,
   "id": "85c0360e-95f8-43c3-ac01-2ca0d20e0a95",
   "metadata": {},
   "outputs": [
    {
     "name": "stdout",
     "output_type": "stream",
     "text": [
      "5\n"
     ]
    }
   ],
   "source": [
    "def find_median(lst):\n",
    "    sorted_lst = sorted(lst)\n",
    "    n = len(sorted_lst)\n",
    "    if n % 2 == 0:\n",
    "        median = (sorted_lst[n//2 - 1] + sorted_lst[n//2]) / 2\n",
    "    else:\n",
    "        median = sorted_lst[n//2]\n",
    "    return median\n",
    "\n",
    "numbers = [5, 2, 9, 1, 7]\n",
    "median = find_median(numbers)\n",
    "print(median)  "
   ]
  },
  {
   "cell_type": "markdown",
   "id": "b1c4418d-074d-43d0-9290-aaadc49ebd7c",
   "metadata": {},
   "source": [
    "### 16. Implement a function to check if a given list is sorted in non-decreasing order."
   ]
  },
  {
   "cell_type": "code",
   "execution_count": 48,
   "id": "dde7810d-9e73-4958-a956-149e62178e58",
   "metadata": {},
   "outputs": [
    {
     "name": "stdout",
     "output_type": "stream",
     "text": [
      "True\n",
      "False\n"
     ]
    }
   ],
   "source": [
    "def is_sorted(lst):\n",
    "    return all(lst[i] <= lst[i + 1] for i in range(len(lst) - 1))\n",
    "\n",
    "# Example usage\n",
    "numbers = [1, 2, 3, 4, 5]\n",
    "print(is_sorted(numbers))  \n",
    "\n",
    "numbers = [5, 2, 9, 1, 7]\n",
    "print(is_sorted(numbers)) "
   ]
  },
  {
   "cell_type": "markdown",
   "id": "88b133fc-9993-45c7-acc8-28d4dec2224c",
   "metadata": {},
   "source": [
    "### 17. Write a Python program to find the intersection of two lists."
   ]
  },
  {
   "cell_type": "code",
   "execution_count": 49,
   "id": "205f7fd2-7fce-46ff-91a7-0df7479f4a1f",
   "metadata": {},
   "outputs": [
    {
     "name": "stdout",
     "output_type": "stream",
     "text": [
      "[4, 5]\n"
     ]
    }
   ],
   "source": [
    "def find_common_elements(list1, list2):\n",
    "    common_elements = []\n",
    "    for element in list1:\n",
    "        if element in list2 and element not in common_elements:\n",
    "            common_elements.append(element)\n",
    "    return common_elements\n",
    "\n",
    "list1 = [1, 2, 3, 4, 5]\n",
    "list2 = [4, 5, 6, 7, 8]\n",
    "common_elements = find_common_elements(list1, list2)\n",
    "print(common_elements)  "
   ]
  },
  {
   "cell_type": "markdown",
   "id": "a4b60bda-2d97-4209-bb6b-d8f495bf7c87",
   "metadata": {},
   "source": [
    "### 18. Implement a function to find the maximum subarray sum in a given list."
   ]
  },
  {
   "cell_type": "code",
   "execution_count": 50,
   "id": "3fd383d9-f2ef-4c58-8097-6affb9f77f0c",
   "metadata": {},
   "outputs": [
    {
     "name": "stdout",
     "output_type": "stream",
     "text": [
      "6\n"
     ]
    }
   ],
   "source": [
    "def find_max_subarray_sum(nums):\n",
    "    if not nums:\n",
    "        return 0\n",
    "    \n",
    "    max_sum = float('-inf')\n",
    "    current_sum = 0\n",
    "    \n",
    "    for num in nums:\n",
    "        current_sum = max(num, current_sum + num)\n",
    "        max_sum = max(max_sum, current_sum)\n",
    "    \n",
    "    return max_sum\n",
    "\n",
    "numbers = [-2, 1, -3, 4, -1, 2, 1, -5, 4]\n",
    "max_subarray_sum = find_max_subarray_sum(numbers)\n",
    "print(max_subarray_sum)  "
   ]
  },
  {
   "cell_type": "markdown",
   "id": "0fb947af-9ad2-483d-ac90-afe44db18099",
   "metadata": {},
   "source": [
    "### 19. Write a program to remove all vowels from a given string."
   ]
  },
  {
   "cell_type": "code",
   "execution_count": 51,
   "id": "41e20c5b-3fc9-47c3-b16f-1f059e159132",
   "metadata": {},
   "outputs": [
    {
     "name": "stdout",
     "output_type": "stream",
     "text": [
      "Hll, Wrld!\n"
     ]
    }
   ],
   "source": [
    "def remove_vowels(string):\n",
    "    vowels = 'aeiouAEIOU'\n",
    "    return ''.join(char for char in string if char not in vowels)\n",
    "\n",
    "text = \"Hello, World!\"\n",
    "result = remove_vowels(text)\n",
    "print(result)  "
   ]
  },
  {
   "cell_type": "markdown",
   "id": "704536a6-d10a-46b5-8c5c-70691f14316a",
   "metadata": {},
   "source": [
    "### 20. Implement a function to reverse the order of words in a given sentence."
   ]
  },
  {
   "cell_type": "code",
   "execution_count": 52,
   "id": "f2359eb8-c031-40b7-aca6-758ad3f5e270",
   "metadata": {},
   "outputs": [
    {
     "name": "stdout",
     "output_type": "stream",
     "text": [
      "World! Hello,\n"
     ]
    }
   ],
   "source": [
    "def reverse_words(sentence):\n",
    "    words = sentence.split()\n",
    "    reversed_words = ' '.join(reversed(words))\n",
    "    return reversed_words\n",
    "\n",
    "text = \"Hello, World!\"\n",
    "result = reverse_words(text)\n",
    "print(result) "
   ]
  },
  {
   "cell_type": "markdown",
   "id": "964d5431-9ea1-4c32-984e-0c08fcd669f9",
   "metadata": {},
   "source": [
    "### 21. Write a Python program to check if two strings are anagrams of each other."
   ]
  },
  {
   "cell_type": "code",
   "execution_count": 53,
   "id": "4a184178-8cf8-4448-a200-267fe3857b13",
   "metadata": {},
   "outputs": [
    {
     "name": "stdout",
     "output_type": "stream",
     "text": [
      "True\n",
      "False\n"
     ]
    }
   ],
   "source": [
    "def are_anagrams(str1, str2):\n",
    "    str1 = str1.lower().replace(\" \", \"\")\n",
    "    str2 = str2.lower().replace(\" \", \"\")\n",
    "    return sorted(str1) == sorted(str2)\n",
    "\n",
    "s1 = \"listen\"\n",
    "s2 = \"silent\"\n",
    "print(are_anagrams(s1, s2))  \n",
    "\n",
    "s1 = \"hello\"\n",
    "s2 = \"world\"\n",
    "print(are_anagrams(s1, s2))  "
   ]
  },
  {
   "cell_type": "markdown",
   "id": "c90f6d12-3dd9-43e8-a2ec-b8e75df0385e",
   "metadata": {},
   "source": [
    "### 22. Implement a function to find the first non-repeating character in a string."
   ]
  },
  {
   "cell_type": "code",
   "execution_count": 54,
   "id": "a10af5ff-d6a8-435b-ad46-f94d497c597b",
   "metadata": {},
   "outputs": [
    {
     "name": "stdout",
     "output_type": "stream",
     "text": [
      "c\n"
     ]
    }
   ],
   "source": [
    "from collections import Counter\n",
    "\n",
    "def find_first_non_repeating_char(string):\n",
    "    char_counts = Counter(string)\n",
    "    for char in string:\n",
    "        if char_counts[char] == 1:\n",
    "            return char\n",
    "    return None\n",
    "\n",
    "text = \"aabbcdef\"\n",
    "result = find_first_non_repeating_char(text)\n",
    "print(result)  "
   ]
  },
  {
   "cell_type": "markdown",
   "id": "4f54200e-45c9-4f10-8164-6aa3b62f00c1",
   "metadata": {},
   "source": [
    "### 23. Write a program to find the prime factors of a given number."
   ]
  },
  {
   "cell_type": "code",
   "execution_count": 55,
   "id": "0bd59e5e-5c82-4a90-a792-137b6cf0019b",
   "metadata": {},
   "outputs": [
    {
     "name": "stdout",
     "output_type": "stream",
     "text": [
      "[2, 2, 2, 7]\n"
     ]
    }
   ],
   "source": [
    "def find_prime_factors(n):\n",
    "    prime_factors = []\n",
    "    divisor = 2\n",
    "    while divisor <= n:\n",
    "        if n % divisor == 0:\n",
    "            prime_factors.append(divisor)\n",
    "            n = n // divisor\n",
    "        else:\n",
    "            divisor += 1\n",
    "    return prime_factors\n",
    "\n",
    "number = 56\n",
    "factors = find_prime_factors(number)\n",
    "print(factors)  "
   ]
  },
  {
   "cell_type": "markdown",
   "id": "ba653afe-7a76-439f-959a-100a7f073b00",
   "metadata": {},
   "source": [
    "### 24. Implement a function to check if a given number is a power of two."
   ]
  },
  {
   "cell_type": "code",
   "execution_count": 56,
   "id": "86966990-a30d-4a11-977d-89b2054a1ca1",
   "metadata": {},
   "outputs": [
    {
     "name": "stdout",
     "output_type": "stream",
     "text": [
      "True\n",
      "False\n"
     ]
    }
   ],
   "source": [
    "def is_power_of_two(n):\n",
    "    if n <= 0:\n",
    "        return False\n",
    "    while n % 2 == 0:\n",
    "        n = n // 2\n",
    "    return n == 1\n",
    "\n",
    "num = 16\n",
    "print(is_power_of_two(num))   \n",
    "\n",
    "num = 15\n",
    "print(is_power_of_two(num)) "
   ]
  },
  {
   "cell_type": "markdown",
   "id": "162cb92c-ac78-49d9-8722-de06653627f1",
   "metadata": {},
   "source": [
    "### 25. Write a Python program to merge two sorted lists into a single sorted list."
   ]
  },
  {
   "cell_type": "code",
   "execution_count": 57,
   "id": "c20e487b-a6ba-4ab2-b596-df1e8d624fb2",
   "metadata": {},
   "outputs": [
    {
     "name": "stdout",
     "output_type": "stream",
     "text": [
      "[1, 2, 3, 4, 5, 6, 7, 8]\n"
     ]
    }
   ],
   "source": [
    "def merge_sorted_lists(list1, list2):\n",
    "    merged_list = []\n",
    "    i, j = 0, 0\n",
    "\n",
    "    while i < len(list1) and j < len(list2):\n",
    "        if list1[i] <= list2[j]:\n",
    "            merged_list.append(list1[i])\n",
    "            i += 1\n",
    "        else:\n",
    "            merged_list.append(list2[j])\n",
    "            j += 1\n",
    "\n",
    "    # Add the remaining elements from list1, if any\n",
    "    while i < len(list1):\n",
    "        merged_list.append(list1[i])\n",
    "        i += 1\n",
    "\n",
    "    # Add the remaining elements from list2, if any\n",
    "    while j < len(list2):\n",
    "        merged_list.append(list2[j])\n",
    "        j += 1\n",
    "\n",
    "    return merged_list\n",
    "\n",
    "# Example usage\n",
    "list1 = [1, 3, 5, 7]\n",
    "list2 = [2, 4, 6, 8]\n",
    "merged_list = merge_sorted_lists(list1, list2)\n",
    "print(merged_list)  "
   ]
  },
  {
   "cell_type": "markdown",
   "id": "5028d16e-b422-47b6-a45c-695e1fd09ad3",
   "metadata": {},
   "source": [
    "### 26. Implement a function to find the mode of a list of numbers."
   ]
  },
  {
   "cell_type": "code",
   "execution_count": 58,
   "id": "bbf64ec4-6ba7-46ba-a6cb-58ea988420ff",
   "metadata": {},
   "outputs": [
    {
     "name": "stdout",
     "output_type": "stream",
     "text": [
      "[4, 5]\n"
     ]
    }
   ],
   "source": [
    "from collections import Counter\n",
    "\n",
    "def find_mode(nums):\n",
    "    num_counts = Counter(nums)\n",
    "    max_count = max(num_counts.values())\n",
    "    modes = [num for num, count in num_counts.items() if count == max_count]\n",
    "    return modes\n",
    "\n",
    "numbers = [1, 2, 3, 3, 4, 4, 4, 5, 5, 5]\n",
    "modes = find_mode(numbers)\n",
    "print(modes)  "
   ]
  },
  {
   "cell_type": "markdown",
   "id": "4f56113b-211a-4302-b4a1-5526d524f119",
   "metadata": {},
   "source": [
    "### 27. Write a program to find the greatest common divisor (GCD) of two numbers."
   ]
  },
  {
   "cell_type": "code",
   "execution_count": 59,
   "id": "bd19ec6f-56e2-4df4-bfe2-535eceedf11e",
   "metadata": {},
   "outputs": [
    {
     "name": "stdout",
     "output_type": "stream",
     "text": [
      "12\n"
     ]
    }
   ],
   "source": [
    "def gcd(a, b):\n",
    "    while b != 0:\n",
    "        a, b = b, a % b\n",
    "    return a\n",
    "\n",
    "num1 = 36\n",
    "num2 = 48\n",
    "result = gcd(num1, num2)\n",
    "print(result)  "
   ]
  },
  {
   "cell_type": "markdown",
   "id": "7e5a4369-9bdb-4d3e-b39e-752ecc6e44ac",
   "metadata": {},
   "source": [
    "### 28. Implement a function to calculate the square root of a given number."
   ]
  },
  {
   "cell_type": "code",
   "execution_count": 60,
   "id": "d27bd1a3-4783-4f00-892b-c5dba7b774ba",
   "metadata": {},
   "outputs": [
    {
     "name": "stdout",
     "output_type": "stream",
     "text": [
      "5.0\n"
     ]
    }
   ],
   "source": [
    "def square_root(n):\n",
    "    if n < 0:\n",
    "        raise ValueError(\"Square root is not defined for negative numbers.\")\n",
    "    if n == 0:\n",
    "        return 0\n",
    "\n",
    "    x = n\n",
    "    y = (x + n / x) / 2\n",
    "    while abs(y - x) >= 1e-8:\n",
    "        x = y\n",
    "        y = (x + n / x) / 2\n",
    "\n",
    "    return y\n",
    "\n",
    "number = 25\n",
    "result = square_root(number)\n",
    "print(result) "
   ]
  },
  {
   "cell_type": "markdown",
   "id": "d64a991c-bfc1-4ad3-a1f6-ee2259f5dd8c",
   "metadata": {},
   "source": [
    "### 29. Write a Python program to check if a given string is a valid palindrome ignoring non-alphanumeric characters."
   ]
  },
  {
   "cell_type": "code",
   "execution_count": 61,
   "id": "eae9263b-6c49-4cab-82f5-4ea29f3cec21",
   "metadata": {},
   "outputs": [
    {
     "name": "stdout",
     "output_type": "stream",
     "text": [
      "True\n",
      "False\n"
     ]
    }
   ],
   "source": [
    "import re\n",
    "\n",
    "def is_valid_palindrome(s):\n",
    "    s = re.sub(r'[^a-zA-Z0-9]', '', s.lower())\n",
    "    return s == s[::-1]\n",
    "\n",
    "# Example usage\n",
    "string = \"A man, a plan, a canal: Panama\"\n",
    "print(is_valid_palindrome(string)) \n",
    "\n",
    "string = \"race a car\"\n",
    "print(is_valid_palindrome(string))  "
   ]
  },
  {
   "cell_type": "markdown",
   "id": "782f9220-1149-4a63-9aa2-cc9619b8a32c",
   "metadata": {},
   "source": [
    "### 30. Implement a function to find the minimum element in a rotated sorted list."
   ]
  },
  {
   "cell_type": "code",
   "execution_count": 62,
   "id": "f27fe780-c3d4-47ff-ac67-980ac22daf18",
   "metadata": {},
   "outputs": [
    {
     "name": "stdout",
     "output_type": "stream",
     "text": [
      "0\n"
     ]
    }
   ],
   "source": [
    "def find_minimum(nums):\n",
    "    left = 0\n",
    "    right = len(nums) - 1\n",
    "\n",
    "    while left < right:\n",
    "        mid = left + (right - left) // 2\n",
    "\n",
    "        if nums[mid] > nums[right]:\n",
    "            left = mid + 1\n",
    "        elif nums[mid] < nums[right]:\n",
    "            right = mid\n",
    "        else:\n",
    "            right -= 1\n",
    "\n",
    "    return nums[left]\n",
    "\n",
    "numbers = [4, 5, 6, 7, 0, 1, 2]\n",
    "minimum = find_minimum(numbers)\n",
    "print(minimum) "
   ]
  },
  {
   "cell_type": "markdown",
   "id": "c66d409c-b1b8-4f5c-9e8a-49a9c029948a",
   "metadata": {},
   "source": [
    "### 31. Write a program to find the sum of all even numbers in a list."
   ]
  },
  {
   "cell_type": "code",
   "execution_count": 63,
   "id": "e80ef9fc-becc-4ff9-8c08-77753ef8a0a1",
   "metadata": {},
   "outputs": [
    {
     "name": "stdout",
     "output_type": "stream",
     "text": [
      "30\n"
     ]
    }
   ],
   "source": [
    "def sum_even_numbers(nums):\n",
    "    return sum(num for num in nums if num % 2 == 0)\n",
    "\n",
    "numbers = [1, 2, 3, 4, 5, 6, 7, 8, 9, 10]\n",
    "sum_even = sum_even_numbers(numbers)\n",
    "print(sum_even)  "
   ]
  },
  {
   "cell_type": "markdown",
   "id": "3676dc05-da6e-4725-a38c-aeba0debeb0d",
   "metadata": {},
   "source": [
    "### 32. Implement a function to calculate the power of a number using recursion."
   ]
  },
  {
   "cell_type": "code",
   "execution_count": 64,
   "id": "0448aff1-d47d-419c-b4b1-91fd7729ee07",
   "metadata": {},
   "outputs": [
    {
     "name": "stdout",
     "output_type": "stream",
     "text": [
      "32\n"
     ]
    }
   ],
   "source": [
    "def power(base, exponent):\n",
    "    if exponent == 0:\n",
    "        return 1\n",
    "    elif exponent < 0:\n",
    "        return 1 / power(base, -exponent)\n",
    "    else:\n",
    "        return base * power(base, exponent - 1)\n",
    "\n",
    "base = 2\n",
    "exponent = 5\n",
    "result = power(base, exponent)\n",
    "print(result)  "
   ]
  },
  {
   "cell_type": "markdown",
   "id": "d90a180d-4fc8-4fa3-aa15-fc0545512618",
   "metadata": {},
   "source": [
    "### 33. Write a Python program to remove duplicates from a list while preserving the order."
   ]
  },
  {
   "cell_type": "code",
   "execution_count": 65,
   "id": "3771b40a-fb3c-4429-a403-4021f29f3c25",
   "metadata": {},
   "outputs": [
    {
     "name": "stdout",
     "output_type": "stream",
     "text": [
      "[1, 2, 3, 4, 5, 6]\n"
     ]
    }
   ],
   "source": [
    "def remove_duplicates(lst):\n",
    "    unique_list = []\n",
    "    for item in lst:\n",
    "        if item not in unique_list:\n",
    "            unique_list.append(item)\n",
    "    return unique_list\n",
    "\n",
    "numbers = [1, 2, 3, 2, 4, 5, 4, 6, 3]\n",
    "unique_numbers = remove_duplicates(numbers)\n",
    "print(unique_numbers)  "
   ]
  },
  {
   "cell_type": "markdown",
   "id": "b0158a01-23f2-4829-beeb-3ea02dd57ef2",
   "metadata": {},
   "source": [
    "### 34. Implement a function to find the longest common prefix among a list of strings."
   ]
  },
  {
   "cell_type": "code",
   "execution_count": 66,
   "id": "1f93134f-5490-4670-b5c5-99e5d3757c2c",
   "metadata": {},
   "outputs": [
    {
     "name": "stdout",
     "output_type": "stream",
     "text": [
      "fl\n"
     ]
    }
   ],
   "source": [
    "def longest_common_prefix(strings):\n",
    "    if not strings:\n",
    "        return ''\n",
    "\n",
    "    prefix = strings[0]\n",
    "    for string in strings[1:]:\n",
    "        while not string.startswith(prefix):\n",
    "            prefix = prefix[:-1]\n",
    "            if prefix == '':\n",
    "                return ''\n",
    "    return prefix\n",
    "\n",
    "words = ['flower', 'flow', 'flight']\n",
    "common_prefix = longest_common_prefix(words)\n",
    "print(common_prefix)  "
   ]
  },
  {
   "cell_type": "markdown",
   "id": "91ffaadd-646c-409d-aaed-abc18a14ab90",
   "metadata": {},
   "source": [
    "### 35. Write a program to check if a given number is a perfect square."
   ]
  },
  {
   "cell_type": "code",
   "execution_count": 67,
   "id": "1341f300-07e6-4bcd-b9c0-f17f57115640",
   "metadata": {},
   "outputs": [
    {
     "name": "stdout",
     "output_type": "stream",
     "text": [
      "True\n",
      "False\n"
     ]
    }
   ],
   "source": [
    "def is_perfect_square(num):\n",
    "    if num < 0:\n",
    "        return False\n",
    "    root = int(num ** 0.5)\n",
    "    return root * root == num\n",
    "\n",
    "\n",
    "number = 16\n",
    "print(is_perfect_square(number))  \n",
    "\n",
    "number = 14\n",
    "print(is_perfect_square(number))  "
   ]
  },
  {
   "cell_type": "markdown",
   "id": "c4de84b5-9549-484f-812c-24c9d3b26440",
   "metadata": {},
   "source": [
    "### 36. Implement a function to calculate the product of all elements in a list."
   ]
  },
  {
   "cell_type": "code",
   "execution_count": 68,
   "id": "720431c6-d052-4f47-98f6-48c32a203183",
   "metadata": {},
   "outputs": [
    {
     "name": "stdout",
     "output_type": "stream",
     "text": [
      "120\n"
     ]
    }
   ],
   "source": [
    "def calculate_product(nums):\n",
    "    product = 1\n",
    "    for num in nums:\n",
    "        product *= num\n",
    "    return product\n",
    "\n",
    "numbers = [2, 3, 4, 5]\n",
    "product = calculate_product(numbers)\n",
    "print(product)  "
   ]
  },
  {
   "cell_type": "markdown",
   "id": "b42e659a-e58e-42e1-ba93-573ca384567a",
   "metadata": {},
   "source": [
    "### 37. Write a Python program to reverse the order of words in a sentence while preserving the word order."
   ]
  },
  {
   "cell_type": "code",
   "execution_count": 69,
   "id": "fbaab072-f461-4f3f-b2aa-cfb1f9865076",
   "metadata": {},
   "outputs": [
    {
     "name": "stdout",
     "output_type": "stream",
     "text": [
      "World! Hello,\n"
     ]
    }
   ],
   "source": [
    "def reverse_sentence(sentence):\n",
    "    words = sentence.split()\n",
    "    reversed_sentence = ' '.join(reversed(words))\n",
    "    return reversed_sentence\n",
    "\n",
    "text = \"Hello, World!\"\n",
    "reversed_text = reverse_sentence(text)\n",
    "print(reversed_text)  "
   ]
  },
  {
   "cell_type": "markdown",
   "id": "c6300390-5fd1-4dd7-a33d-62e84fc8bbea",
   "metadata": {},
   "source": [
    "### 38. Implement a function to find the missing number in a given list of consecutive numbers.\n"
   ]
  },
  {
   "cell_type": "code",
   "execution_count": 70,
   "id": "916a319c-7827-4b44-886d-715e73686b42",
   "metadata": {},
   "outputs": [
    {
     "name": "stdout",
     "output_type": "stream",
     "text": [
      "4\n"
     ]
    }
   ],
   "source": [
    "def find_missing_number(nums):\n",
    "    n = len(nums) + 1\n",
    "    expected_sum = (n * (n + 1)) // 2\n",
    "    actual_sum = sum(nums)\n",
    "    missing_number = expected_sum - actual_sum\n",
    "    return missing_number\n",
    "\n",
    "numbers = [1, 2, 3, 5, 6, 7, 8, 9]\n",
    "missing_num = find_missing_number(numbers)\n",
    "print(missing_num) "
   ]
  },
  {
   "cell_type": "markdown",
   "id": "ee04f04b-4488-4469-86d6-e5dfa9febfe5",
   "metadata": {},
   "source": [
    "### 39. Write a program to find the sum of digits of a given number.\n"
   ]
  },
  {
   "cell_type": "code",
   "execution_count": 71,
   "id": "82ac3772-16f0-4dba-bca0-b00b73ec19b4",
   "metadata": {},
   "outputs": [
    {
     "name": "stdout",
     "output_type": "stream",
     "text": [
      "15\n"
     ]
    }
   ],
   "source": [
    "def sum_of_digits(n):\n",
    "    digit_sum = sum(int(digit) for digit in str(n))\n",
    "    return digit_sum\n",
    "\n",
    "number = 12345\n",
    "digit_sum = sum_of_digits(number)\n",
    "print(digit_sum)  "
   ]
  },
  {
   "cell_type": "markdown",
   "id": "2f322004-153c-413c-a30c-1883255d0654",
   "metadata": {},
   "source": [
    "### 40. Implement a function to check if a given string is a valid palindrome considering case sensitivity."
   ]
  },
  {
   "cell_type": "code",
   "execution_count": 72,
   "id": "b002cb6a-1461-43bf-a073-08d38ef37832",
   "metadata": {},
   "outputs": [
    {
     "name": "stdout",
     "output_type": "stream",
     "text": [
      "True\n",
      "False\n"
     ]
    }
   ],
   "source": [
    "def is_valid_palindrome(s):\n",
    "    return s == s[::-1]\n",
    "\n",
    "# Example usage\n",
    "string = \"racecar\"\n",
    "print(is_valid_palindrome(string)) \n",
    "\n",
    "string = \"Hello\"\n",
    "print(is_valid_palindrome(string))  "
   ]
  },
  {
   "cell_type": "markdown",
   "id": "eb37199b-1ce0-4601-b7b3-6c33b4d64da8",
   "metadata": {},
   "source": [
    "### 41. Write a Python program to find the smallest missing positive integer in a list.\n"
   ]
  },
  {
   "cell_type": "code",
   "execution_count": 73,
   "id": "6ff4a0ee-b561-437c-8ac7-8737133299c1",
   "metadata": {},
   "outputs": [
    {
     "name": "stdout",
     "output_type": "stream",
     "text": [
      "4\n"
     ]
    }
   ],
   "source": [
    "def find_smallest_missing_positive(nums):\n",
    "    nums = set(nums)\n",
    "    smallest_missing = 1\n",
    "    while smallest_missing in nums:\n",
    "        smallest_missing += 1\n",
    "    return smallest_missing\n",
    "\n",
    "numbers = [1, 3, 5, 2, -1, -4, 0]\n",
    "smallest_missing = find_smallest_missing_positive(numbers)\n",
    "print(smallest_missing)  "
   ]
  },
  {
   "cell_type": "markdown",
   "id": "f26019a2-1dd4-4ac5-957c-581084c27a8a",
   "metadata": {},
   "source": [
    "### 42. Implement a function to find the longest palindrome substring in a given string."
   ]
  },
  {
   "cell_type": "code",
   "execution_count": 74,
   "id": "88439ab7-4e8b-43e3-9e14-1d48f066bc9a",
   "metadata": {},
   "outputs": [
    {
     "name": "stdout",
     "output_type": "stream",
     "text": [
      "bab\n"
     ]
    }
   ],
   "source": [
    "def find_longest_palindrome(s):\n",
    "    longest_palindrome = ''\n",
    "    for i in range(len(s)):\n",
    "        for j in range(i+1, len(s)+1):\n",
    "            substring = s[i:j]\n",
    "            if substring == substring[::-1] and len(substring) > len(longest_palindrome):\n",
    "                longest_palindrome = substring\n",
    "    return longest_palindrome\n",
    "\n",
    "string = \"babad\"\n",
    "longest_palindrome = find_longest_palindrome(string)\n",
    "print(longest_palindrome) "
   ]
  },
  {
   "cell_type": "markdown",
   "id": "7bc25ed5-f3f9-4f15-ac83-3b3f5113a228",
   "metadata": {},
   "source": [
    "### 43. Write a program to find the number of occurrences of a given element in a list.\n"
   ]
  },
  {
   "cell_type": "code",
   "execution_count": 75,
   "id": "0df6662a-c6c7-416a-9aff-6b7acdd06520",
   "metadata": {},
   "outputs": [
    {
     "name": "stdout",
     "output_type": "stream",
     "text": [
      "3\n"
     ]
    }
   ],
   "source": [
    "def count_occurrences(lst, element):\n",
    "    count = 0\n",
    "    for item in lst:\n",
    "        if item == element:\n",
    "            count += 1\n",
    "    return count\n",
    "\n",
    "numbers = [1, 2, 3, 4, 3, 2, 1, 2]\n",
    "element = 2\n",
    "occurrences = count_occurrences(numbers, element)\n",
    "print(occurrences)  "
   ]
  },
  {
   "cell_type": "markdown",
   "id": "8e0b6181-981b-4e80-846a-caa6f0f7066a",
   "metadata": {},
   "source": [
    "### 44. Implement a function to check if a given number is a perfect number."
   ]
  },
  {
   "cell_type": "code",
   "execution_count": 76,
   "id": "84cae762-99c2-442f-8d80-fd57f71d8313",
   "metadata": {},
   "outputs": [
    {
     "name": "stdout",
     "output_type": "stream",
     "text": [
      "True\n",
      "False\n"
     ]
    }
   ],
   "source": [
    "def is_perfect_number(num):\n",
    "    if num <= 0:\n",
    "        return False\n",
    "    divisor_sum = sum(i for i in range(1, num) if num % i == 0)\n",
    "    return divisor_sum == num\n",
    "\n",
    "# Example usage\n",
    "number = 28\n",
    "print(is_perfect_number(number)) \n",
    "number = 12\n",
    "print(is_perfect_number(number))  "
   ]
  },
  {
   "cell_type": "markdown",
   "id": "d7044182-555c-468e-85e0-be4c4b7e95fe",
   "metadata": {},
   "source": [
    "### 45. Write a Python program to remove all duplicates from a string.\n"
   ]
  },
  {
   "cell_type": "code",
   "execution_count": 77,
   "id": "695a854c-d710-4e90-a5ea-4a19654e9602",
   "metadata": {},
   "outputs": [
    {
     "name": "stdout",
     "output_type": "stream",
     "text": [
      "e,oHl !rdW\n"
     ]
    }
   ],
   "source": [
    "def remove_duplicates(string):\n",
    "    return ''.join(set(string))\n",
    "\n",
    "text = \"Hello, World!\"\n",
    "result = remove_duplicates(text)\n",
    "print(result)  "
   ]
  },
  {
   "cell_type": "markdown",
   "id": "e510b6c1-d850-44a2-992d-dd1bdd68532f",
   "metadata": {},
   "source": [
    "### 46. Implement a function to find the first missing positive"
   ]
  },
  {
   "cell_type": "code",
   "execution_count": 78,
   "id": "f218bf96-586c-4247-bbae-dbf0dfa79d2b",
   "metadata": {},
   "outputs": [
    {
     "name": "stdout",
     "output_type": "stream",
     "text": [
      "3\n"
     ]
    }
   ],
   "source": [
    "def find_first_missing_positive(nums):\n",
    "    if not nums:\n",
    "        return 1\n",
    "    n = len(nums)\n",
    "    for i in range(n):\n",
    "        while 1 <= nums[i] <= n and nums[i] != nums[nums[i] - 1]:\n",
    "            nums[nums[i] - 1], nums[i] = nums[i], nums[nums[i] - 1]\n",
    "    for i in range(n):\n",
    "        if nums[i] != i + 1:\n",
    "            return i + 1\n",
    "    return n + 1\n",
    "\n",
    "numbers = [1, 2, 0]\n",
    "missing_positive = find_first_missing_positive(numbers)\n",
    "print(missing_positive) "
   ]
  }
 ],
 "metadata": {
  "kernelspec": {
   "display_name": "Python 3 (ipykernel)",
   "language": "python",
   "name": "python3"
  },
  "language_info": {
   "codemirror_mode": {
    "name": "ipython",
    "version": 3
   },
   "file_extension": ".py",
   "mimetype": "text/x-python",
   "name": "python",
   "nbconvert_exporter": "python",
   "pygments_lexer": "ipython3",
   "version": "3.10.8"
  }
 },
 "nbformat": 4,
 "nbformat_minor": 5
}
