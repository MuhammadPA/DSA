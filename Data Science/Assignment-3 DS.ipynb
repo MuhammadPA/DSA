{
 "cells": [
  {
   "cell_type": "markdown",
   "id": "11c5a82d-1f2f-4b4c-bf61-b39e039743e2",
   "metadata": {},
   "source": [
    "### 1. Scenario: A company wants to analyze the sales performance of its products in different regions. They have collected the following data:\n",
    "   Region A: [10, 15, 12, 8, 14]\n",
    "   \n",
    "   Region B: [18, 20, 16, 22, 25]\n",
    "   \n",
    "   Calculate the mean sales for each region."
   ]
  },
  {
   "cell_type": "code",
   "execution_count": 1,
   "id": "2ee1b276-ec9e-428d-a561-127cd24014a3",
   "metadata": {},
   "outputs": [
    {
     "name": "stdout",
     "output_type": "stream",
     "text": [
      "Mean sales for Region A: 11.8\n",
      "Mean sales for Region B: 20.2\n"
     ]
    }
   ],
   "source": [
    "def calculate_mean_sales(region):\n",
    "    total_sales = sum(region)\n",
    "    num_sales = len(region)\n",
    "    mean_sales = total_sales / num_sales\n",
    "    return mean_sales\n",
    "\n",
    "region_a_sales = [10, 15, 12, 8, 14]\n",
    "region_b_sales = [18, 20, 16, 22, 25]\n",
    "\n",
    "mean_sales_region_a = calculate_mean_sales(region_a_sales)\n",
    "mean_sales_region_b = calculate_mean_sales(region_b_sales)\n",
    "\n",
    "print(\"Mean sales for Region A:\", mean_sales_region_a)\n",
    "print(\"Mean sales for Region B:\", mean_sales_region_b)"
   ]
  },
  {
   "cell_type": "markdown",
   "id": "0394db15-ebdd-4643-a67a-78954e190047",
   "metadata": {},
   "source": [
    "### 2. Scenario: A survey is conducted to measure customer satisfaction on a scale of 1 to 5. The data collected is as follows:\n",
    "   [4, 5, 2, 3, 5, 4, 3, 2, 4, 5]\n",
    "   \n",
    "   Calculate the mode of the survey responses."
   ]
  },
  {
   "cell_type": "code",
   "execution_count": 2,
   "id": "591d1ac6-5316-433d-87a4-9345fe21babd",
   "metadata": {},
   "outputs": [
    {
     "name": "stdout",
     "output_type": "stream",
     "text": [
      "Mode(s) of the survey responses: [4, 5]\n"
     ]
    }
   ],
   "source": [
    "from collections import Counter\n",
    "\n",
    "survey_responses = [4, 5, 2, 3, 5, 4, 3, 2, 4, 5]\n",
    "\n",
    "response_counts = Counter(survey_responses)\n",
    "\n",
    "modes = [response for response, count in response_counts.items() if count == max(response_counts.values())]\n",
    "\n",
    "print(\"Mode(s) of the survey responses:\", modes)"
   ]
  },
  {
   "cell_type": "markdown",
   "id": "0e32806f-1fef-40a3-92a1-ae2b981a7709",
   "metadata": {},
   "source": [
    "### 3. Scenario: A company wants to compare the salaries of two departments. The salary data for Department A and Department B are as follows:\n",
    "\n",
    "   Department A: [5000, 6000, 5500, 7000]\n",
    "   \n",
    "   Department B: [4500, 5500, 5800, 6000, 5200]\n",
    "   \n",
    "   Calculate the median salary for each department."
   ]
  },
  {
   "cell_type": "code",
   "execution_count": 3,
   "id": "e0a9ea4b-6190-4eaa-9c53-af0ea8b4c4d7",
   "metadata": {},
   "outputs": [
    {
     "name": "stdout",
     "output_type": "stream",
     "text": [
      "Median salary for Department A: 5750.0\n",
      "Median salary for Department B: 5500\n"
     ]
    }
   ],
   "source": [
    "def calculate_median_salary(salary_data):\n",
    "    sorted_salaries = sorted(salary_data)\n",
    "    num_salaries = len(sorted_salaries)\n",
    "    middle_index = num_salaries // 2\n",
    "\n",
    "    if num_salaries % 2 == 0:\n",
    "        median_salary = (sorted_salaries[middle_index - 1] + sorted_salaries[middle_index]) / 2\n",
    "    else:\n",
    "        median_salary = sorted_salaries[middle_index]\n",
    "    \n",
    "    return median_salary\n",
    "\n",
    "department_a_salaries = [5000, 6000, 5500, 7000]\n",
    "department_b_salaries = [4500, 5500, 5800, 6000, 5200]\n",
    "\n",
    "median_salary_department_a = calculate_median_salary(department_a_salaries)\n",
    "median_salary_department_b = calculate_median_salary(department_b_salaries)\n",
    "\n",
    "print(\"Median salary for Department A:\", median_salary_department_a)\n",
    "print(\"Median salary for Department B:\", median_salary_department_b)"
   ]
  },
  {
   "cell_type": "markdown",
   "id": "17f4118e-c764-456d-a2e2-0d7c481c2a17",
   "metadata": {},
   "source": [
    "### 4. Scenario: A data analyst wants to determine the variability in the daily stock prices of a company. The data collected is as follows:\n",
    "\n",
    "   [25.5, 24.8, 26.1, 25.3, 24.9]\n",
    "   \n",
    "   Calculate the range of the stock prices."
   ]
  },
  {
   "cell_type": "code",
   "execution_count": 5,
   "id": "018d1da9-3776-45ad-b52e-92c0dfe6f92c",
   "metadata": {},
   "outputs": [
    {
     "name": "stdout",
     "output_type": "stream",
     "text": [
      "Range of the stock prices: 1.3000000000000007\n"
     ]
    }
   ],
   "source": [
    "stock_prices = [25.5, 24.8, 26.1, 25.3, 24.9]\n",
    "\n",
    "min_price = min(stock_prices)\n",
    "max_price = max(stock_prices)\n",
    "\n",
    "price_range = max_price - min_price\n",
    "\n",
    "print(\"Range of the stock prices:\", price_range)"
   ]
  },
  {
   "cell_type": "markdown",
   "id": "2cfa97be-3256-4107-be18-4381cebe03a4",
   "metadata": {},
   "source": [
    "### 5. Scenario: A study is conducted to compare the performance of two different teaching methods. The test scores of the students in each group are as follows:\n",
    "\n",
    "   Group A: [85, 90, 92, 88, 91]\n",
    "   \n",
    "   Group B: [82, 88, 90, 86, 87]\n",
    "   \n",
    "   Perform a t-test to determine if there is a significant difference in the mean scores between the two groups."
   ]
  },
  {
   "cell_type": "code",
   "execution_count": 6,
   "id": "88c1672c-adfa-4cd5-bc58-da28e8fac182",
   "metadata": {},
   "outputs": [
    {
     "name": "stdout",
     "output_type": "stream",
     "text": [
      "There is no significant difference in the mean scores between the two groups.\n",
      "p-value: 0.1904025808880625\n"
     ]
    }
   ],
   "source": [
    "from scipy import stats\n",
    "\n",
    "group_a_scores = [85, 90, 92, 88, 91]\n",
    "group_b_scores = [82, 88, 90, 86, 87]\n",
    "\n",
    "\n",
    "t_statistic, p_value = stats.ttest_ind(group_a_scores, group_b_scores, equal_var=False)\n",
    "\n",
    "alpha = 0.05  \n",
    "\n",
    "if p_value < alpha:\n",
    "    result = \"There is a significant difference in the mean scores between the two groups.\"\n",
    "else:\n",
    "    result = \"There is no significant difference in the mean scores between the two groups.\"\n",
    "\n",
    "print(result)\n",
    "print(\"p-value:\", p_value)"
   ]
  },
  {
   "cell_type": "markdown",
   "id": "8eddbd1d-f68b-4ea1-8fed-e06dd5917795",
   "metadata": {},
   "source": [
    "### 6. Scenario: A company wants to analyze the relationship between advertising expenditure and sales. The data collected is as follows:\n",
    "\n",
    "   Advertising Expenditure (in thousands): [10, 15, 12, 8, 14]\n",
    "   \n",
    "   Sales (in thousands): [25, 30, 28, 20, 26]\n",
    "   \n",
    "   Calculate the correlation coefficient between advertising expenditure and sales."
   ]
  },
  {
   "cell_type": "code",
   "execution_count": 7,
   "id": "fe69ff85-adf9-4f1a-8fe8-8be9d032d098",
   "metadata": {},
   "outputs": [
    {
     "name": "stdout",
     "output_type": "stream",
     "text": [
      "Correlation coefficient: 0.8757511375750133\n",
      "p-value: 0.05158319418821717\n"
     ]
    }
   ],
   "source": [
    "from scipy import stats\n",
    "\n",
    "advertising_expenditure = [10, 15, 12, 8, 14]\n",
    "sales = [25, 30, 28, 20, 26]\n",
    "\n",
    "correlation_coefficient, p_value = stats.pearsonr(advertising_expenditure, sales)\n",
    "\n",
    "print(\"Correlation coefficient:\", correlation_coefficient)\n",
    "print(\"p-value:\", p_value)"
   ]
  },
  {
   "cell_type": "markdown",
   "id": "d9e41128-4d84-49e4-9c40-2165d011f8b0",
   "metadata": {},
   "source": [
    "### 7. Scenario: A survey is conducted to measure the heights of a group of people. The data collected is as follows:\n",
    "   [160, 170, 165, 155, 175, 180, 170]\n",
    "   \n",
    "   Calculate the standard deviation of the heights."
   ]
  },
  {
   "cell_type": "code",
   "execution_count": 8,
   "id": "4438a611-747a-4065-a2b7-eee2b4f1b2d6",
   "metadata": {},
   "outputs": [
    {
     "name": "stdout",
     "output_type": "stream",
     "text": [
      "Standard deviation of the heights: 7.953949089757174\n"
     ]
    }
   ],
   "source": [
    "import numpy as np\n",
    "\n",
    "heights = [160, 170, 165, 155, 175, 180, 170]\n",
    "\n",
    "standard_deviation = np.std(heights)\n",
    "\n",
    "print(\"Standard deviation of the heights:\", standard_deviation)"
   ]
  },
  {
   "cell_type": "markdown",
   "id": "5a8e5328-c1eb-4eb4-aa33-7ae3ddcd13ed",
   "metadata": {},
   "source": [
    "### 8. Scenario: A company wants to analyze the relationship between employee tenure and job satisfaction. The data collected is as follows:\n",
    "\n",
    "   Employee Tenure (in years): [2, 3, 5, 4, 6, 2, 4]\n",
    "   \n",
    "   Job Satisfaction (on a scale of 1 to 10): [7, 8, 6, 9, 5, 7, 6]\n",
    "   \n",
    "   Perform a linear regression analysis to predict job satisfaction based on employee tenure."
   ]
  },
  {
   "cell_type": "code",
   "execution_count": 10,
   "id": "f4cf9c15-799f-428b-a141-0cf664da81e1",
   "metadata": {},
   "outputs": [
    {
     "name": "stdout",
     "output_type": "stream",
     "text": [
      "Intercept: 8.595744680851062\n",
      "Slope (Employee Tenure): -0.46808510638297934\n",
      "Predicted Job Satisfaction for Tenure of 3 years: 7.191489361702125\n"
     ]
    }
   ],
   "source": [
    "import statsmodels.api as sm\n",
    "import numpy as np\n",
    "\n",
    "employee_tenure = [2, 3, 5, 4, 6, 2, 4]\n",
    "job_satisfaction = [7, 8, 6, 9, 5, 7, 6]\n",
    "\n",
    "x = sm.add_constant(employee_tenure)\n",
    "\n",
    "model = sm.OLS(job_satisfaction, x).fit()\n",
    "\n",
    "print(\"Intercept:\", model.params[0])\n",
    "print(\"Slope (Employee Tenure):\", model.params[1])\n",
    "\n",
    "tenure = 3\n",
    "predicted_satisfaction = model.params[0] + model.params[1] * tenure\n",
    "print(\"Predicted Job Satisfaction for Tenure of\", tenure, \"years:\", predicted_satisfaction)"
   ]
  },
  {
   "cell_type": "markdown",
   "id": "998565ab-0da8-47db-b531-4e9d8146925d",
   "metadata": {},
   "source": [
    "### 9. Scenario: A study is conducted to compare the effectiveness of two different medications. The recovery times of the patients in each group are as follows:\n",
    "\n",
    "   Medication A: [10, 12, 14, 11, 13]\n",
    "   \n",
    "   Medication B: [15, 17, 16, 14, 18]\n",
    "   \n",
    "   Perform an analysis of variance (ANOVA) to determine if there is a significant difference in the mean recovery times between the two medications."
   ]
  },
  {
   "cell_type": "code",
   "execution_count": 11,
   "id": "7e41ab5d-1579-4c6d-8d32-0f5b969d2410",
   "metadata": {},
   "outputs": [
    {
     "name": "stdout",
     "output_type": "stream",
     "text": [
      "There is a significant difference in the mean recovery times between the two medications.\n",
      "p-value: 0.003949772803445326\n"
     ]
    }
   ],
   "source": [
    "from scipy import stats\n",
    "\n",
    "medication_a_recovery_times = [10, 12, 14, 11, 13]\n",
    "medication_b_recovery_times = [15, 17, 16, 14, 18]\n",
    "\n",
    "f_statistic, p_value = stats.f_oneway(medication_a_recovery_times, medication_b_recovery_times)\n",
    "\n",
    "alpha = 0.05  \n",
    "\n",
    "if p_value < alpha:\n",
    "    result = \"There is a significant difference in the mean recovery times between the two medications.\"\n",
    "else:\n",
    "    result = \"There is no significant difference in the mean recovery times between the two medications.\"\n",
    "\n",
    "print(result)\n",
    "print(\"p-value:\", p_value)"
   ]
  },
  {
   "cell_type": "markdown",
   "id": "57ac8f4b-4b65-4464-b2d9-bee5b9a2d475",
   "metadata": {},
   "source": [
    "### 10. Scenario: A company wants to analyze customer feedback ratings on a scale of 1 to 10. The data collected isas follows:\n",
    "\n",
    "    [8, 9, 7, 6, 8, 10, 9, 8, 7, 8]\n",
    "    \n",
    "    Calculate the 75th percentile of the feedback ratings."
   ]
  },
  {
   "cell_type": "code",
   "execution_count": 12,
   "id": "4e3dd7a9-665a-4e1c-97b8-3aa21e896415",
   "metadata": {},
   "outputs": [
    {
     "name": "stdout",
     "output_type": "stream",
     "text": [
      "75th percentile of the feedback ratings: 8.75\n"
     ]
    }
   ],
   "source": [
    "import numpy as np\n",
    "\n",
    "feedback_ratings = [8, 9, 7, 6, 8, 10, 9, 8, 7, 8]\n",
    "\n",
    "percentile_75 = np.percentile(feedback_ratings, 75)\n",
    "\n",
    "print(\"75th percentile of the feedback ratings:\", percentile_75)"
   ]
  },
  {
   "cell_type": "markdown",
   "id": "15c3f516-c1a1-48d6-ba99-efe6daab954d",
   "metadata": {},
   "source": [
    "### 11. Scenario: A quality control department wants to test the weight consistency of a product. The weights of a sample of products are as follows:\n",
    "\n",
    "    [10.2, 9.8, 10.0, 10.5, 10.3, 10.1]\n",
    "    \n",
    "    Perform a hypothesis test to determine if the mean weight differs significantly from 10 grams."
   ]
  },
  {
   "cell_type": "code",
   "execution_count": 25,
   "id": "3ad98a8f-07b7-4871-baf8-2a8a9a1502a8",
   "metadata": {},
   "outputs": [
    {
     "name": "stdout",
     "output_type": "stream",
     "text": [
      "The mean weight does not differ significantly from 10 grams.\n",
      "p-value: 0.19077595151110102\n"
     ]
    }
   ],
   "source": [
    "from scipy import stats\n",
    "\n",
    "weights = [10.2, 9.8, 10.0, 10.5, 10.3, 10.1]\n",
    "\n",
    "test_value = 10  \n",
    "\n",
    "t_statistic, p_value = stats.ttest_1samp(weights, test_value)\n",
    "\n",
    "alpha = 0.05  \n",
    "if p_value < alpha:\n",
    "    result = \"The mean weight differs significantly from 10 grams.\"\n",
    "else:\n",
    "    result = \"The mean weight does not differ significantly from 10 grams.\"\n",
    "\n",
    "print(result)\n",
    "print(\"p-value:\", p_value)"
   ]
  },
  {
   "cell_type": "markdown",
   "id": "a8be1db3-3073-4453-82c3-8f42cf804708",
   "metadata": {},
   "source": [
    "### 12. Scenario: A company wants to analyze the click-through rates of two different website designs. The number of clicks for each design is as follows:\n",
    "\n",
    "    Design A: [100, 120, 110, 90, 95]\n",
    "    \n",
    "    Design B: [80, 85, 90, 95, 100]\n",
    "    \n",
    "    Perform a chi-square test to determine if there is a significant difference in the click-through rates between the two designs"
   ]
  },
  {
   "cell_type": "code",
   "execution_count": 14,
   "id": "11555afe-3b0e-42ff-bb53-89d860e50cc3",
   "metadata": {},
   "outputs": [
    {
     "name": "stdout",
     "output_type": "stream",
     "text": [
      "There is no significant difference in the click-through rates between the two designs.\n",
      "p-value: 0.19103526314060293\n"
     ]
    }
   ],
   "source": [
    "from scipy import stats\n",
    "import numpy as np\n",
    "\n",
    "design_a_clicks = [100, 120, 110, 90, 95]\n",
    "design_b_clicks = [80, 85, 90, 95, 100]\n",
    "\n",
    "observed = np.array([design_a_clicks, design_b_clicks])\n",
    "\n",
    "chi2_statistic, p_value, _, _ = stats.chi2_contingency(observed)\n",
    "\n",
    "alpha = 0.05 \n",
    "\n",
    "if p_value < alpha:\n",
    "    result = \"There is a significant difference in the click-through rates between the two designs.\"\n",
    "else:\n",
    "    result = \"There is no significant difference in the click-through rates between the two designs.\"\n",
    "\n",
    "print(result)\n",
    "print(\"p-value:\", p_value)"
   ]
  },
  {
   "cell_type": "markdown",
   "id": "b927015d-325b-40ea-918c-deee526852d7",
   "metadata": {},
   "source": [
    "### 13. Scenario: A survey is conducted to measure customer satisfaction with a product on a scale of 1 to 10. The data collected is as follows:\n",
    "\n",
    "    [7, 9, 6, 8, 10, 7, 8, 9, 7, 8]\n",
    "    \n",
    "    Calculate the 95% confidence interval for the population mean satisfaction score."
   ]
  },
  {
   "cell_type": "code",
   "execution_count": 26,
   "id": "bdac274f-f6fb-4064-baf3-35b9cda6a103",
   "metadata": {},
   "outputs": [
    {
     "name": "stdout",
     "output_type": "stream",
     "text": [
      "95% Confidence Interval for the Population Mean Satisfaction Score: (7.043561120599888, 8.756438879400113)\n"
     ]
    }
   ],
   "source": [
    "from scipy import stats\n",
    "import numpy as np\n",
    "\n",
    "satisfaction_scores = [7, 9, 6, 8, 10, 7, 8, 9, 7, 8]\n",
    "\n",
    "confidence_level = 0.95  # 95% confidence level\n",
    "degrees_of_freedom = len(satisfaction_scores) - 1\n",
    "sample_mean = np.mean(satisfaction_scores)\n",
    "standard_error = stats.sem(satisfaction_scores)\n",
    "\n",
    "confidence_interval = stats.t.interval(confidence_level, degrees_of_freedom, sample_mean, standard_error)\n",
    "\n",
    "print(\"95% Confidence Interval for the Population Mean Satisfaction Score:\", confidence_interval)"
   ]
  },
  {
   "cell_type": "markdown",
   "id": "763f2ff9-3e27-4154-aa5a-13141dd2206e",
   "metadata": {},
   "source": [
    "### 14. Scenario: A company wants to analyze the effect of temperature on product performance. The data collected is as follows:\n",
    "\n",
    "    Temperature (in degrees Celsius): [20, 22, 23, 19, 21]\n",
    "    \n",
    "    Performance (on a scale of 1 to 10): [8, 7, 9, 6, 8]\n",
    "    \n",
    "    Perform a simple linear regression to predict performance based on temperature."
   ]
  },
  {
   "cell_type": "code",
   "execution_count": 16,
   "id": "b3c3c80a-4f9f-4187-8354-ea06e2d2ba22",
   "metadata": {},
   "outputs": [
    {
     "name": "stdout",
     "output_type": "stream",
     "text": [
      "Intercept: -2.899999999999972\n",
      "Slope (Temperature): 0.49999999999999867\n",
      "Predicted Performance for Temperature of 24 degrees Celsius: 9.099999999999996\n"
     ]
    }
   ],
   "source": [
    "import statsmodels.api as sm\n",
    "import numpy as np\n",
    "\n",
    "temperature = [20, 22, 23, 19, 21]\n",
    "performance = [8, 7, 9, 6, 8]\n",
    "\n",
    "x = sm.add_constant(temperature)\n",
    "\n",
    "model = sm.OLS(performance, x).fit()\n",
    "\n",
    "print(\"Intercept:\", model.params[0])\n",
    "print(\"Slope (Temperature):\", model.params[1])\n",
    "\n",
    "temp = 24\n",
    "predicted_performance = model.params[0] + model.params[1] * temp\n",
    "print(\"Predicted Performance for Temperature of\", temp, \"degrees Celsius:\", predicted_performance)"
   ]
  },
  {
   "cell_type": "markdown",
   "id": "f2d1e6a2-60d4-4203-9412-8d3a79737d83",
   "metadata": {},
   "source": [
    "### 15. Scenario: A study is conducted to compare the preferences of two groups of participants. The preferences are measured on a Likert scale from 1 to 5. The data collected is as follows:\n",
    "\n",
    "    Group A: [4, 3, 5, 2, 4]\n",
    "    \n",
    "    Group B: [3, 2, 4, 3, 3]\n",
    "    \n",
    "    Perform a Mann-Whitney U test to determine if there is a significant difference in the median preferences between the two groups."
   ]
  },
  {
   "cell_type": "code",
   "execution_count": 17,
   "id": "26f0961e-2019-4a80-a71e-257235d79dbe",
   "metadata": {},
   "outputs": [
    {
     "name": "stdout",
     "output_type": "stream",
     "text": [
      "There is no significant difference in the median preferences between the two groups.\n",
      "p-value: 0.380836480306712\n"
     ]
    }
   ],
   "source": [
    "from scipy import stats\n",
    "\n",
    "group_a_preferences = [4, 3, 5, 2, 4]\n",
    "group_b_preferences = [3, 2, 4, 3, 3]\n",
    "\n",
    "statistic, p_value = stats.mannwhitneyu(group_a_preferences, group_b_preferences, alternative='two-sided')\n",
    "\n",
    "alpha = 0.05  \n",
    "\n",
    "if p_value < alpha:\n",
    "    result = \"There is a significant difference in the median preferences between the two groups.\"\n",
    "else:\n",
    "    result = \"There is no significant difference in the median preferences between the two groups.\"\n",
    "\n",
    "print(result)\n",
    "print(\"p-value:\", p_value)"
   ]
  },
  {
   "cell_type": "markdown",
   "id": "efda96a0-b8b9-4756-a9a1-50a0ffe16cc4",
   "metadata": {},
   "source": [
    "### 16. Scenario: A company wants to analyze the distribution of customer ages. The data collected is as follows:\n",
    "\n",
    "    [25, 30, 35, 40, 45, 50, 55, 60, 65, 70]\n",
    "    \n",
    "    Calculate the interquartile range (IQR) of the ages."
   ]
  },
  {
   "cell_type": "code",
   "execution_count": 18,
   "id": "cb59b8a6-3833-4f0d-9fd1-1291940ba2b7",
   "metadata": {},
   "outputs": [
    {
     "name": "stdout",
     "output_type": "stream",
     "text": [
      "Interquartile Range (IQR) of the ages: 22.5\n"
     ]
    }
   ],
   "source": [
    "import numpy as np\n",
    "\n",
    "ages = [25, 30, 35, 40, 45, 50, 55, 60, 65, 70]\n",
    "\n",
    "Q1 = np.percentile(ages, 25)\n",
    "Q3 = np.percentile(ages, 75)\n",
    "\n",
    "IQR = Q3 - Q1\n",
    "\n",
    "print(\"Interquartile Range (IQR) of the ages:\", IQR)"
   ]
  },
  {
   "cell_type": "markdown",
   "id": "9b030851-cf34-4f1d-bda3-fed7c88e5c03",
   "metadata": {},
   "source": [
    "### 17. Scenario: A study is conducted to compare the performance of three different machine learning algorithms. The accuracy scores for each algorithm are as follows:\n",
    "\n",
    "    Algorithm A: [0.85, 0.80, 0.82, 0.87, 0.83]\n",
    "    \n",
    "    Algorithm B: [0.78, 0.82, 0.84, 0.80, 0.79]\n",
    "    \n",
    "    Algorithm C: [0.90, 0.88, 0.89, 0.86, 0.87]\n",
    "    \n",
    "    Perform a Kruskal-Wallis test to determine if there is a significant difference in the median accuracy scores between the algorithms."
   ]
  },
  {
   "cell_type": "code",
   "execution_count": 19,
   "id": "31468e55-fb18-4342-bb2f-6baaecc8a9ee",
   "metadata": {},
   "outputs": [
    {
     "name": "stdout",
     "output_type": "stream",
     "text": [
      "There is a significant difference in the median accuracy scores between the algorithms.\n",
      "p-value: 0.007840333026249539\n"
     ]
    }
   ],
   "source": [
    "from scipy import stats\n",
    "\n",
    "algorithm_a_scores = [0.85, 0.80, 0.82, 0.87, 0.83]\n",
    "algorithm_b_scores = [0.78, 0.82, 0.84, 0.80, 0.79]\n",
    "algorithm_c_scores = [0.90, 0.88, 0.89, 0.86, 0.87]\n",
    "\n",
    "statistic, p_value = stats.kruskal(algorithm_a_scores, algorithm_b_scores, algorithm_c_scores)\n",
    "\n",
    "alpha = 0.05  # Significance level\n",
    "\n",
    "if p_value < alpha:\n",
    "    result = \"There is a significant difference in the median accuracy scores between the algorithms.\"\n",
    "else:\n",
    "    result = \"There is no significant difference in the median accuracy scores between the algorithms.\"\n",
    "\n",
    "print(result)\n",
    "print(\"p-value:\", p_value)"
   ]
  },
  {
   "cell_type": "markdown",
   "id": "3977ecaa-c935-46c1-9632-d8e5799af267",
   "metadata": {},
   "source": [
    "### 18. Scenario: A company wants to analyze the effect of price on sales. The data collected is as follows:\n",
    "\n",
    "    Price (in dollars): [10, 15, 12, 8, 14]\n",
    "    \n",
    "    Sales: [100, 80, 90, 110, 95]\n",
    "    \n",
    "    Perform a simple linear regression to predict sales based on price."
   ]
  },
  {
   "cell_type": "code",
   "execution_count": 20,
   "id": "f2fc9169-7c4e-49ae-b42f-7a9a9992c880",
   "metadata": {},
   "outputs": [
    {
     "name": "stdout",
     "output_type": "stream",
     "text": [
      "Intercept: 136.3719512195122\n",
      "Slope (Price): -3.5060975609756113\n",
      "Predicted Sales for Price of 13 dollars: 90.79268292682926\n"
     ]
    }
   ],
   "source": [
    "import statsmodels.api as sm\n",
    "import numpy as np\n",
    "\n",
    "price = [10, 15, 12, 8, 14]\n",
    "sales = [100, 80, 90, 110, 95]\n",
    "\n",
    "x = sm.add_constant(price)\n",
    "\n",
    "model = sm.OLS(sales, x).fit()\n",
    "\n",
    "print(\"Intercept:\", model.params[0])\n",
    "print(\"Slope (Price):\", model.params[1])\n",
    "\n",
    "price_value = 13\n",
    "predicted_sales = model.params[0] + model.params[1] * price_value\n",
    "print(\"Predicted Sales for Price of\", price_value, \"dollars:\", predicted_sales)"
   ]
  },
  {
   "cell_type": "markdown",
   "id": "9c97f60b-e433-4514-8529-84fb24c43b9b",
   "metadata": {},
   "source": [
    "### 19. Scenario: A survey is conducted to measure the satisfaction levels of customers with a new product. The data collected is as follows:\n",
    "\n",
    "    [7, 8, 9, 6, 8, 7, 9, 7, 8, 7]\n",
    "    \n",
    "    Calculate the standard error of the mean satisfaction score."
   ]
  },
  {
   "cell_type": "code",
   "execution_count": 21,
   "id": "1ea5f5c0-2c70-464d-9c5e-932fc4d88dd5",
   "metadata": {},
   "outputs": [
    {
     "name": "stdout",
     "output_type": "stream",
     "text": [
      "Standard Error of the Mean Satisfaction Score: 0.28982753492378877\n"
     ]
    }
   ],
   "source": [
    "import numpy as np\n",
    "\n",
    "satisfaction_scores = [7, 8, 9, 6, 8, 7, 9, 7, 8, 7]\n",
    "\n",
    "sample_size = len(satisfaction_scores)\n",
    "standard_deviation = np.std(satisfaction_scores)\n",
    "\n",
    "standard_error = standard_deviation / np.sqrt(sample_size)\n",
    "\n",
    "print(\"Standard Error of the Mean Satisfaction Score:\", standard_error)"
   ]
  },
  {
   "cell_type": "markdown",
   "id": "6d99a863-534f-4287-b45d-8e7de084674d",
   "metadata": {},
   "source": [
    "### 20. Scenario: A company wants to analyze the relationship between advertising expenditure and sales. The data collected is as follows:\n",
    "\n",
    "    Advertising Expenditure (in thousands): [10, 15, 12, 8, 14]\n",
    "    \n",
    "    Sales (in thousands): [25, 30, 28, 20, 26]\n",
    "    \n",
    "    Perform a multiple regression analysis to predict sales based on advertising expenditure."
   ]
  },
  {
   "cell_type": "code",
   "execution_count": 24,
   "id": "7d381a31-aedd-451d-b354-c77d5d444748",
   "metadata": {},
   "outputs": [
    {
     "name": "stdout",
     "output_type": "stream",
     "text": [
      "Intercept: 12.201219512195118\n",
      "Coefficient (Advertising Expenditure): 1.1524390243902434\n",
      "Predicted Sales for Advertising Expenditure of 11 thousands: 24.878048780487795\n"
     ]
    }
   ],
   "source": [
    "import statsmodels.api as sm\n",
    "import numpy as np\n",
    "\n",
    "advertising_expenditure = [10, 15, 12, 8, 14]\n",
    "sales = [25, 30, 28, 20, 26]\n",
    "\n",
    "x = sm.add_constant(advertising_expenditure)\n",
    "\n",
    "model = sm.OLS(sales, x).fit()\n",
    "\n",
    "print(\"Intercept:\", model.params[0])\n",
    "print(\"Coefficient (Advertising Expenditure):\", model.params[1])\n",
    "\n",
    "expenditure = 11\n",
    "predicted_sales = model.params[0] + model.params[1] * expenditure\n",
    "print(\"Predicted Sales for Advertising Expenditure of\", expenditure, \"thousands:\", predicted_sales)"
   ]
  }
 ],
 "metadata": {
  "kernelspec": {
   "display_name": "Python 3 (ipykernel)",
   "language": "python",
   "name": "python3"
  },
  "language_info": {
   "codemirror_mode": {
    "name": "ipython",
    "version": 3
   },
   "file_extension": ".py",
   "mimetype": "text/x-python",
   "name": "python",
   "nbconvert_exporter": "python",
   "pygments_lexer": "ipython3",
   "version": "3.10.8"
  }
 },
 "nbformat": 4,
 "nbformat_minor": 5
}
